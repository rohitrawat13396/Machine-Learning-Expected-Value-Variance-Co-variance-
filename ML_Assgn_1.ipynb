{
 "cells": [
  {
   "cell_type": "code",
   "execution_count": 14,
   "metadata": {},
   "outputs": [
    {
     "name": "stdin",
     "output_type": "stream",
     "text": [
      " 10\n"
     ]
    },
    {
     "name": "stdout",
     "output_type": "stream",
     "text": [
      "Expected Value's Mean for 30 runs: MEAN_E=  0.6714605513034453\n",
      "Variance's Mean for 30 runs: MEAN_V=  0.054898935777708414\n",
      "Covariance's Mean for 30 runs: MEAN_C=  0.03894290957650848\n",
      "Expected Value's SD for 30 runs: SD_E=  [0.0645448883694958]\n",
      "Variance's SD for 30 runs: SD_V= [0.01696223504075682]\n",
      "Covariance's SD for 30 runs: SD_C= [0.024019556470826365]\n"
     ]
    }
   ],
   "source": [
    "import numpy as np\n",
    "import math\n",
    "\n",
    "N=int(input())\n",
    "EXP= []\n",
    "VAR= []\n",
    "COV= []\n",
    "def square(X):\n",
    "    return [i ** 2 for i in X]\n",
    "\n",
    "def prod(X1,X):\n",
    "    return [i*j for i,j in zip(X1,X)]\n",
    "\n",
    "def question2(N):\n",
    "    X = []    \n",
    "    X1 = []\n",
    "    X2 = []\n",
    "    for i in range(N):\n",
    "        array= (np.random.rand(2))\n",
    "        X.append(max(array[0],array[1]))          ## AS X=max(X1,X2)\n",
    "        #print (array)\n",
    "        X1.append(array[0])\n",
    "        X2.append(array[1])\n",
    "    #print(\"X1: \", X1)\n",
    "    E= np.mean(X)\n",
    "    #print (\"X: \", X)\n",
    "    #print (\"Expected Value(Mean) of X: \", E)\n",
    "\n",
    "    #Variance[X] = E[X2] - E2[X]  \n",
    "    V=np.mean(square(X)) - E*E\n",
    "    #print(\"Variance[X] = E[X*X] - E[X]*E[X] : \", V)\n",
    "\n",
    "    #Covariance(X,X1)=E[(X-E[X])*(X1-E[X1])]= E[XX1]-E[X]E[X1]\n",
    "\n",
    "    C= np.mean(prod(X1,X)) - E*np.mean(X1)\n",
    "    #print (\"Covariance(X,X1)=E[(X-E[X])*(X1-E[X1])]= E[XX1]-E[X]E[X1] = \", C)\n",
    "    return (E,V,C) \n",
    "\n",
    "def stan_dev(EXP,MEAN_E):\n",
    "    ret= []\n",
    "    for i in EXP:\n",
    "        ret.append(i-MEAN_E)\n",
    "    ret= square(ret)\n",
    "    return [math.sqrt(sum(ret)/30)]\n",
    "\n",
    "for i in range(30):\n",
    "    (E,V,C)=question2(N)\n",
    "    EXP.append(E)\n",
    "    VAR.append(V)\n",
    "    COV.append(C)\n",
    "MEAN_E= np.mean(EXP) \n",
    "MEAN_V= np.mean(VAR)\n",
    "MEAN_C= np.mean(COV)\n",
    "\n",
    "print (\"Expected Value's Mean for 30 runs: MEAN_E= \" , MEAN_E)\n",
    "print (\"Variance's Mean for 30 runs: MEAN_V= \" , MEAN_V)\n",
    "print (\"Covariance's Mean for 30 runs: MEAN_C= \" , MEAN_C)\n",
    "print (\"Expected Value's SD for 30 runs: SD_E= \" , stan_dev(EXP,MEAN_E))\n",
    "print (\"Variance's SD for 30 runs: SD_V=\" , stan_dev(VAR,MEAN_V))\n",
    "print (\"Covariance's SD for 30 runs: SD_C=\" , stan_dev(COV,MEAN_C))\n"
   ]
  },
  {
   "cell_type": "code",
   "execution_count": 15,
   "metadata": {},
   "outputs": [
    {
     "name": "stdin",
     "output_type": "stream",
     "text": [
      " 100\n"
     ]
    },
    {
     "name": "stdout",
     "output_type": "stream",
     "text": [
      "Expected Value's Mean for 30 runs: MEAN_E=  0.655761191156048\n",
      "Variance's Mean for 30 runs: MEAN_V=  0.05342502384200791\n",
      "Covariance's Mean for 30 runs: MEAN_C=  0.040159039825264906\n",
      "Expected Value's SD for 30 runs: SD_E=  [0.020900251315814168]\n",
      "Variance's SD for 30 runs: SD_V= [0.006221244325683134]\n",
      "Covariance's SD for 30 runs: SD_C= [0.007326288543680337]\n"
     ]
    }
   ],
   "source": [
    "import numpy as np\n",
    "import math\n",
    "\n",
    "N=int(input())\n",
    "EXP= []\n",
    "VAR= []\n",
    "COV= []\n",
    "def square(X):\n",
    "    return [i ** 2 for i in X]\n",
    "\n",
    "def prod(X1,X):\n",
    "    return [i*j for i,j in zip(X1,X)]\n",
    "\n",
    "def question2(N):\n",
    "    X = []    \n",
    "    X1 = []\n",
    "    X2 = []\n",
    "    for i in range(N):\n",
    "        array= (np.random.rand(2))\n",
    "        X.append(max(array[0],array[1]))          ## AS X=max(X1,X2)\n",
    "        #print (array)\n",
    "        X1.append(array[0])\n",
    "        X2.append(array[1])\n",
    "    #print(\"X1: \", X1)\n",
    "    E= np.mean(X)\n",
    "    #print (\"X: \", X)\n",
    "    #print (\"Expected Value(Mean) of X: \", E)\n",
    "\n",
    "    #Variance[X] = E[X2] - E2[X]  \n",
    "    V=np.mean(square(X)) - E*E\n",
    "    #print(\"Variance[X] = E[X*X] - E[X]*E[X] : \", V)\n",
    "\n",
    "    #Covariance(X,X1)=E[(X-E[X])*(X1-E[X1])]= E[XX1]-E[X]E[X1]\n",
    "\n",
    "    C= np.mean(prod(X1,X)) - E*np.mean(X1)\n",
    "    #print (\"Covariance(X,X1)=E[(X-E[X])*(X1-E[X1])]= E[XX1]-E[X]E[X1] = \", C)\n",
    "    return (E,V,C) \n",
    "\n",
    "def stan_dev(EXP,MEAN_E):\n",
    "    ret= []\n",
    "    for i in EXP:\n",
    "        ret.append(i-MEAN_E)\n",
    "    ret= square(ret)\n",
    "    return [math.sqrt(sum(ret)/30)]\n",
    "\n",
    "for i in range(30):\n",
    "    (E,V,C)=question2(N)\n",
    "    EXP.append(E)\n",
    "    VAR.append(V)\n",
    "    COV.append(C)\n",
    "MEAN_E= np.mean(EXP) \n",
    "MEAN_V= np.mean(VAR)\n",
    "MEAN_C= np.mean(COV)\n",
    "\n",
    "print (\"Expected Value's Mean for 30 runs: MEAN_E= \" , MEAN_E)\n",
    "print (\"Variance's Mean for 30 runs: MEAN_V= \" , MEAN_V)\n",
    "print (\"Covariance's Mean for 30 runs: MEAN_C= \" , MEAN_C)\n",
    "print (\"Expected Value's SD for 30 runs: SD_E= \" , stan_dev(EXP,MEAN_E))\n",
    "print (\"Variance's SD for 30 runs: SD_V=\" , stan_dev(VAR,MEAN_V))\n",
    "print (\"Covariance's SD for 30 runs: SD_C=\" , stan_dev(COV,MEAN_C))\n"
   ]
  },
  {
   "cell_type": "code",
   "execution_count": null,
   "metadata": {},
   "outputs": [],
   "source": []
  },
  {
   "cell_type": "code",
   "execution_count": null,
   "metadata": {},
   "outputs": [],
   "source": []
  }
 ],
 "metadata": {
  "kernelspec": {
   "display_name": "Python 3",
   "language": "python",
   "name": "python3"
  },
  "language_info": {
   "codemirror_mode": {
    "name": "ipython",
    "version": 3
   },
   "file_extension": ".py",
   "mimetype": "text/x-python",
   "name": "python",
   "nbconvert_exporter": "python",
   "pygments_lexer": "ipython3",
   "version": "3.7.3"
  }
 },
 "nbformat": 4,
 "nbformat_minor": 4
}
